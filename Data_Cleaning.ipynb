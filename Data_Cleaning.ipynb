{
 "cells": [
  {
   "cell_type": "markdown",
   "metadata": {},
   "source": [
    "# **Python Data Cleaning Project**"
   ]
  },
  {
   "cell_type": "markdown",
   "metadata": {},
   "source": [
    "\n",
    "Please create a python application that can take datasets and clean the data\n",
    "- It should ask for datasets path and name\n",
    "- it should check number of duplicates and remove all the duplicates \n",
    "- it should keep a copy of all the duplicates\n",
    "- it should check for missing values \n",
    "- if any column that is numeric it should replace nulls with mean else it should drop that rows\n",
    "- at end it should save the data as clean data and also return \n",
    "- duplicates records, clean_data \n"
   ]
  },
  {
   "cell_type": "code",
   "execution_count": 4,
   "metadata": {},
   "outputs": [],
   "source": [
    "import warnings\n",
    "\n",
    "warnings.simplefilter(action='ignore', category=FutureWarning)"
   ]
  },
  {
   "cell_type": "code",
   "execution_count": 1,
   "metadata": {},
   "outputs": [],
   "source": [
    "from main import data_cleaning_master"
   ]
  },
  {
   "cell_type": "code",
   "execution_count": 5,
   "metadata": {},
   "outputs": [
    {
     "name": "stdout",
     "output_type": "stream",
     "text": [
      "Thank you for sharing the details \n",
      "Please wait for 4 seconds! . Checking Path.\n",
      "Type of File Entered : .xlsx \n",
      "Please wait for 4 seconds! . Checking total columns and rows.\n",
      "Dataset has :24  rows \n",
      " Dataset has :10  columns .\n",
      "Dataset has total :4 duplicates. \n",
      "Total Missing Values are :17\n",
      "\n",
      "\n",
      "Missing Values per column are \n",
      ":Sales_ID          2\n",
      "Product           2\n",
      "Price             2\n",
      "Quantity          3\n",
      "Customer_ID       1\n",
      "Order_Date        2\n",
      "City              2\n",
      "Sales_Rep         0\n",
      "Discount          2\n",
      "Payment_Method    1\n",
      "dtype: int64\n",
      "Congratulations ! Dataset is cleaned \n",
      ".\n",
      "Number of Rows:15 \n",
      " Number of Columns 10 .\n",
      "Dataset is saved !.\n"
     ]
    },
    {
     "name": "stderr",
     "output_type": "stream",
     "text": [
      "c:\\Users\\bc\\Documents\\Python\\Data_Cleaning_Project\\main.py:69: SettingWithCopyWarning: \n",
      "A value is trying to be set on a copy of a slice from a DataFrame\n",
      "\n",
      "See the caveats in the documentation: https://pandas.pydata.org/pandas-docs/stable/user_guide/indexing.html#returning-a-view-versus-a-copy\n",
      "  df[col].fillna(df[col].mean(),inplace = True)\n",
      "c:\\Users\\bc\\Documents\\Python\\Data_Cleaning_Project\\main.py:72: SettingWithCopyWarning: \n",
      "A value is trying to be set on a copy of a slice from a DataFrame\n",
      "\n",
      "See the caveats in the documentation: https://pandas.pydata.org/pandas-docs/stable/user_guide/indexing.html#returning-a-view-versus-a-copy\n",
      "  df.dropna(subset = col,inplace = True)\n",
      "c:\\Users\\bc\\Documents\\Python\\Data_Cleaning_Project\\main.py:69: SettingWithCopyWarning: \n",
      "A value is trying to be set on a copy of a slice from a DataFrame\n",
      "\n",
      "See the caveats in the documentation: https://pandas.pydata.org/pandas-docs/stable/user_guide/indexing.html#returning-a-view-versus-a-copy\n",
      "  df[col].fillna(df[col].mean(),inplace = True)\n",
      "c:\\Users\\bc\\Documents\\Python\\Data_Cleaning_Project\\main.py:72: SettingWithCopyWarning: \n",
      "A value is trying to be set on a copy of a slice from a DataFrame\n",
      "\n",
      "See the caveats in the documentation: https://pandas.pydata.org/pandas-docs/stable/user_guide/indexing.html#returning-a-view-versus-a-copy\n",
      "  df.dropna(subset = col,inplace = True)\n",
      "c:\\Users\\bc\\Documents\\Python\\Data_Cleaning_Project\\main.py:72: SettingWithCopyWarning: \n",
      "A value is trying to be set on a copy of a slice from a DataFrame\n",
      "\n",
      "See the caveats in the documentation: https://pandas.pydata.org/pandas-docs/stable/user_guide/indexing.html#returning-a-view-versus-a-copy\n",
      "  df.dropna(subset = col,inplace = True)\n",
      "c:\\Users\\bc\\Documents\\Python\\Data_Cleaning_Project\\main.py:72: SettingWithCopyWarning: \n",
      "A value is trying to be set on a copy of a slice from a DataFrame\n",
      "\n",
      "See the caveats in the documentation: https://pandas.pydata.org/pandas-docs/stable/user_guide/indexing.html#returning-a-view-versus-a-copy\n",
      "  df.dropna(subset = col,inplace = True)\n",
      "c:\\Users\\bc\\Documents\\Python\\Data_Cleaning_Project\\main.py:69: SettingWithCopyWarning: \n",
      "A value is trying to be set on a copy of a slice from a DataFrame\n",
      "\n",
      "See the caveats in the documentation: https://pandas.pydata.org/pandas-docs/stable/user_guide/indexing.html#returning-a-view-versus-a-copy\n",
      "  df[col].fillna(df[col].mean(),inplace = True)\n",
      "c:\\Users\\bc\\Documents\\Python\\Data_Cleaning_Project\\main.py:72: SettingWithCopyWarning: \n",
      "A value is trying to be set on a copy of a slice from a DataFrame\n",
      "\n",
      "See the caveats in the documentation: https://pandas.pydata.org/pandas-docs/stable/user_guide/indexing.html#returning-a-view-versus-a-copy\n",
      "  df.dropna(subset = col,inplace = True)\n"
     ]
    }
   ],
   "source": [
    "data_cleaning_master('Sales.xlsx','Sales_2025')"
   ]
  },
  {
   "cell_type": "code",
   "execution_count": 6,
   "metadata": {},
   "outputs": [
    {
     "name": "stdout",
     "output_type": "stream",
     "text": [
      "Thank you for sharing the details \n",
      "Please wait for 1 seconds! . Checking Path.\n",
      "Type of File Entered : .xlsx \n",
      "Please wait for 1 seconds! . Checking total columns and rows.\n",
      "Dataset has :29  rows \n",
      " Dataset has :5  columns .\n",
      "Dataset has total :0 duplicates. \n",
      "Total Missing Values are :14\n",
      "\n",
      "\n",
      "Missing Values per column are \n",
      ":delivery_id        0\n",
      "order_id           3\n",
      "delivery_status    3\n",
      "delivery_time      5\n",
      "rider_id           3\n",
      "dtype: int64\n",
      "Congratulations ! Dataset is cleaned \n",
      ".\n",
      "Number of Rows:24 \n",
      " Number of Columns 5 .\n",
      "Dataset is saved !.\n"
     ]
    }
   ],
   "source": [
    "data_cleaning_master('Delivery.xlsx','Delivery_2025')"
   ]
  },
  {
   "cell_type": "code",
   "execution_count": null,
   "metadata": {},
   "outputs": [],
   "source": []
  }
 ],
 "metadata": {
  "kernelspec": {
   "display_name": "mohit_venv",
   "language": "python",
   "name": "python3"
  },
  "language_info": {
   "codemirror_mode": {
    "name": "ipython",
    "version": 3
   },
   "file_extension": ".py",
   "mimetype": "text/x-python",
   "name": "python",
   "nbconvert_exporter": "python",
   "pygments_lexer": "ipython3",
   "version": "3.13.2"
  }
 },
 "nbformat": 4,
 "nbformat_minor": 2
}
